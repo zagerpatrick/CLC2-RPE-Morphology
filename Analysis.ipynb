{
 "cells": [
  {
   "cell_type": "markdown",
   "metadata": {},
   "source": [
    "## Import Packages and Load Data"
   ]
  },
  {
   "cell_type": "code",
   "execution_count": null,
   "metadata": {},
   "outputs": [],
   "source": [
    "# Load prerequisite commands\n",
    "%run \"P:\\Experiments\\006 RPE Image Analysis (Christin)\\RPE Morphology\\2019-06-25 CLC2 RPE Morphology\\Functions.py\" "
   ]
  },
  {
   "cell_type": "code",
   "execution_count": null,
   "metadata": {},
   "outputs": [],
   "source": [
    "# Define Mouse ID's, Mutations, and Tissue Types\n",
    "\n",
    "mouse_num = ['1256', '1257', '1258', '1259', '1260', '1494', '1498', '1499', \n",
    "             '1500', '1501', '1502']\n",
    "mut_types = ['WT', 'Het', 'KO']\n",
    "age_type = ['P14', 'P30']\n",
    "steps = 1"
   ]
  },
  {
   "cell_type": "code",
   "execution_count": null,
   "metadata": {},
   "outputs": [],
   "source": [
    "# Set working directory for loading images\n",
    "%cd \"P:\\Experiments\\006 RPE Image Analysis (Christin)\\RPE Morphology\\2019-06-25 CLC2 RPE Morphology\\Images\"\n",
    "\n",
    "# Read in data from .tif\n",
    "AF_647 = skimage.io.ImageCollection('*647.tif', load_func=imread_rgb)\n",
    "\n",
    "# convert from image collection to list\n",
    "ZO1 = [image for image in AF_647]\n",
    "\n",
    "filenames = glob.glob('*647.tif')\n",
    "filenames.sort(key=natural_keys) # Note the natural sorting definition so that \n",
    "                                 # filenames are in line with ImageCollection images"
   ]
  },
  {
   "cell_type": "code",
   "execution_count": null,
   "metadata": {},
   "outputs": [],
   "source": [
    "# Create factor lists to be used in dataframes later\n",
    "mut = factor_maker(mut_types, filenames, steps)\n",
    "mice = factor_maker(mouse_num, filenames, steps)"
   ]
  },
  {
   "cell_type": "code",
   "execution_count": null,
   "metadata": {},
   "outputs": [],
   "source": [
    "# load previosuly calculated numpy arrays of segemnted flatmounts\n",
    "%cd \"P:\\Experiments\\006 RPE Image Analysis (Christin)\\RPE Morphology\\2019-06-25 CLC2 RPE Morphology\\Results\\Flat Mount Area\"\n",
    "\n",
    "area_filenames = glob.glob('*.npy')\n",
    "area_filenames.sort(key=natural_keys)\n",
    "\n",
    "fm_area_image = [np.load(image) for image in area_filenames]"
   ]
  },
  {
   "cell_type": "code",
   "execution_count": null,
   "metadata": {},
   "outputs": [],
   "source": [
    "# load previosuly calculated numpy arrays of segemnted RPE cells\n",
    "%cd \"P:\\Experiments\\006 RPE Image Analysis (Christin)\\RPE Morphology\\2019-06-25 CLC2 RPE Morphology\\Results\\Cell Seg\"\n",
    "\n",
    "cell_filenames = glob.glob('*.npy')\n",
    "cell_filenames.sort(key=natural_keys)\n",
    "\n",
    "cells = [np.load(image) for image in cell_filenames]"
   ]
  },
  {
   "cell_type": "markdown",
   "metadata": {},
   "source": [
    "## Calculate Cell Morphology Parameters"
   ]
  },
  {
   "cell_type": "code",
   "execution_count": null,
   "metadata": {},
   "outputs": [],
   "source": [
    "import joblib\n",
    "from joblib import Parallel, delayed"
   ]
  },
  {
   "cell_type": "code",
   "execution_count": null,
   "metadata": {},
   "outputs": [],
   "source": [
    "test_initial = cells[7]\n",
    "test, n_left = mh.labeled.relabel(test_initial)\n",
    "plt.imshow(test)"
   ]
  },
  {
   "cell_type": "code",
   "execution_count": null,
   "metadata": {},
   "outputs": [],
   "source": [
    "image_props_test = skimage.measure.regionprops(test)"
   ]
  },
  {
   "cell_type": "code",
   "execution_count": null,
   "metadata": {},
   "outputs": [],
   "source": [
    "Cells_to_remove = []\n",
    "Cells_to_fix = []\n",
    "Cells_not_to_fix = []\n",
    "\n",
    "for j in tqdm(range(0, len(np.unique(test))-1)):\n",
    "    solid = image_props_test[j].solidity\n",
    "    if solid < .8:\n",
    "        Cells_to_remove.append(j)\n",
    "    if .8 < solid < .9:\n",
    "        Cells_to_fix.append(j)\n",
    "    if solid > .9:\n",
    "        Cells_not_to_fix.append(j)"
   ]
  },
  {
   "cell_type": "code",
   "execution_count": null,
   "metadata": {},
   "outputs": [],
   "source": [
    "def hull(index, image):\n",
    "    cv_image = convex_hull_image(image == index + 1)\n",
    "    return(cv_image)"
   ]
  },
  {
   "cell_type": "code",
   "execution_count": null,
   "metadata": {},
   "outputs": [],
   "source": [
    "temper = \"P:\\Experiments\\006 RPE Image Analysis (Christin)\\RPE Morphology\\2019-06-25 CLC2 RPE Morphology\\Temp\"\n",
    "\n",
    "cool = (Parallel(n_jobs=8, backend='loky', prefer=\"threads\", temp_folder = \"temper\", max_nbytes=1e3)\\\n",
    "        (delayed(hull)(j, test) for j in tqdm(Cells_to_fix)))"
   ]
  },
  {
   "cell_type": "code",
   "execution_count": null,
   "metadata": {},
   "outputs": [],
   "source": [
    "remove = np.zeros(test.shape)\n",
    "\n",
    "for j in tqdm(Cells_to_remove):\n",
    "    remove += test == j+1"
   ]
  },
  {
   "cell_type": "code",
   "execution_count": null,
   "metadata": {},
   "outputs": [],
   "source": []
  },
  {
   "cell_type": "code",
   "execution_count": null,
   "metadata": {},
   "outputs": [],
   "source": [
    "for j in tqdm(Cells_to_fix):\n",
    "    if solid < .8:\n",
    "        remove += n == j+1\n",
    "    if .8 < solid < .9:\n",
    "        fixed += convex_hull_image(n == j+1)\n",
    "    if solid > .9:\n",
    "        other += n == j+1"
   ]
  },
  {
   "cell_type": "code",
   "execution_count": null,
   "metadata": {},
   "outputs": [],
   "source": [
    "fixed2 = np.array(fixed, dtype=bool)\n",
    "remove2 = np.array(remove, dtype=bool)\n",
    "other2 = np.array(other, dtype=bool)\n",
    "\n",
    "overlap = fixed2 * other2\n",
    "fixed3 = fixed2 * ~overlap\n",
    "other3 = other2 * ~overlap\n",
    "\n",
    "final_1 = other3 + skimage.morphology.binary_erosion(fixed3, disk(1))\n",
    "final_2 = final_1 * ~remove2\n",
    "\n",
    "yep, no = mh.label(final_2)\n",
    "\n",
    "plt.figure(figsize = (10,10))\n",
    "plt.imshow(yep, cmap=rmap)"
   ]
  },
  {
   "cell_type": "code",
   "execution_count": null,
   "metadata": {},
   "outputs": [],
   "source": []
  },
  {
   "cell_type": "code",
   "execution_count": null,
   "metadata": {},
   "outputs": [],
   "source": [
    "# Calculate number of sides per cell\n",
    "\n",
    "num_of_sides = []\n",
    "side_images = []\n",
    "sides_per_image = []\n",
    "\n",
    "for i in range(0, len(cells)):\n",
    "    side_image = np.zeros(cells[i].shape)\n",
    "    for j in range(1, np.max(cells[i])):\n",
    "        m = cells[i] == j\n",
    "        coords = corner_peaks(corner_harris(m), min_distance=5)\n",
    "        coords_subpix = corner_subpix(m, coords, window_size=13)\n",
    "        num_of_sides.append(len(coords_subpix))\n",
    "        side_image += m*len(coords_subpix)\n",
    "    side_images.append(side_image)  \n",
    "    \n",
    "    mouse_series = pd.Series([mice[i]] * np.max(cells[i]))\n",
    "    mut_series = pd.Series([mut[i]] * np.max(cells[i]))\n",
    "    cell_num_series = pd.Series(np.linspace(1, np.max(cells[i]), np.max(cells[i]), dtype=int))\n",
    "    side_series = pd.Series(num_of_sides[:])\n",
    "    total = pd.concat([mouse_series, mut_series, cell_num_series, side_series], axis=1)\n",
    "    \n",
    "    total.columns = ['Mouse', 'Mut', 'Cell Number', 'Number of Sides']\n",
    "    sides_per_image.append(total[0:-1])\n",
    "    num_of_sides.clear()\n",
    "    \n",
    "    plt.figure(figsize = (12,12))\n",
    "    plt.imshow(side_image, cmap='Greys')\n",
    "    plt.axis('off')\n",
    "\n",
    "    plt.savefig(\"Side Number %s %s\" % (mice[i], mut[i]), dpi=300)\n",
    "    plt.close()\n",
    "\n",
    "sides = pd.concat(sides_per_image, axis=0)\n",
    "sides.columns = ['Mouse', 'Mut', 'Cell Number', 'Number of Sides']"
   ]
  },
  {
   "cell_type": "code",
   "execution_count": null,
   "metadata": {},
   "outputs": [],
   "source": [
    "# Calculate Cell Morphology Parameters\n",
    "\n",
    "cell_area = []\n",
    "cell_ecc = []\n",
    "props_per_image = []\n",
    "\n",
    "for i in range(0, len(cells)):\n",
    "    image_props = skimage.measure.regionprops(cells[i])\n",
    "    for j in range(1, np.max(cells[i])):\n",
    "        cell_area.append(image_props[j].area)\n",
    "        cell_ecc.append(image_props[j].eccentricity)\n",
    "    \n",
    "    mouse_series = pd.Series([mice[i]] * np.max(cells[i]))\n",
    "    mut_series = pd.Series([mut[i]] * np.max(cells[i]))\n",
    "    cell_num_series = pd.Series(np.linspace(1, np.max(cells[i]), np.max(cells[i]), dtype=int))\n",
    "    area_series = pd.Series(cell_area[:])\n",
    "    ecc_series = pd.Series(cell_ecc[:])\n",
    "    total = pd.concat([mouse_series, mut_series, cell_num_series, area_series, ecc_series], axis=1)\n",
    "    \n",
    "    total.columns = ['Mouse', 'Mut', 'Cell Number', 'Area', 'Ecc']\n",
    "    props_per_image.append(total[0:-1])\n",
    "    \n",
    "    cell_area.clear()\n",
    "    cell_ecc.clear()\n",
    "    \n",
    "props = pd.concat(props_per_image, axis=0)\n",
    "props.columns = ['Mouse', 'Mut', 'Cell Number', 'Area', 'Ecc']"
   ]
  },
  {
   "cell_type": "markdown",
   "metadata": {},
   "source": [
    "## Plot Results"
   ]
  },
  {
   "cell_type": "code",
   "execution_count": null,
   "metadata": {},
   "outputs": [],
   "source": [
    "for index, image in enumerate(ZO1):\n",
    "    overlay = np.array(cells[index], dtype=bool)\n",
    "    overlay_label = skimage.color.label2rgb(overlay, image, ['black', 'green' ])\n",
    "    \n",
    "    plt.figure(figsize = (15,15))\n",
    "    plt.imshow(overlay_label)\n",
    "    plt.axis('off')\n",
    "    \n",
    "    plt.savefig(\"Overlay %s %s\" % (mice[index], mut[index]), dpi=300)\n",
    "    plt.close()"
   ]
  },
  {
   "cell_type": "code",
   "execution_count": null,
   "metadata": {},
   "outputs": [],
   "source": [
    "plt.figure(figsize = (8,6))\n",
    "plt.hist(props.loc[props['Mut'] == 'WT']['Area'], bins=list(np.arange(0,2750,250)))\n",
    "plt.savefig(\"WT Area Hist\", dpi=150)"
   ]
  },
  {
   "cell_type": "code",
   "execution_count": null,
   "metadata": {},
   "outputs": [],
   "source": [
    "plt.figure(figsize = (8,6))\n",
    "plt.hist(props.loc[props['Mut'] == 'IHH']['Area'], bins=list(np.arange(0,2750,250)), color='red')\n",
    "plt.savefig(\"IHH Area Hist\", dpi=150)"
   ]
  },
  {
   "cell_type": "code",
   "execution_count": null,
   "metadata": {},
   "outputs": [],
   "source": [
    "plt.figure(figsize = (8,6))\n",
    "sns.kdeplot(props.loc[props['Mut'] == 'WT']['Area'], shade=True, bw=.1, label='WT')\n",
    "sns.kdeplot(props.loc[props['Mut'] == 'IHH']['Area'], shade=True, bw=.1, color=\"red\", label='IHH')\n",
    "plt.xlim(0, 2000)\n",
    "plt.savefig(\"WT-IHH Area Density Plot\", dpi=150)"
   ]
  },
  {
   "cell_type": "code",
   "execution_count": null,
   "metadata": {},
   "outputs": [],
   "source": [
    "plt.figure(figsize = (8,6))\n",
    "plt.hist(props.loc[props['Mut'] == 'WT']['Ecc'], bins=list(np.arange(0,1.1,.1)))\n",
    "plt.savefig(\"WT Eccentricity Hist\", dpi=150)"
   ]
  },
  {
   "cell_type": "code",
   "execution_count": null,
   "metadata": {},
   "outputs": [],
   "source": [
    "plt.figure(figsize = (8,6))\n",
    "plt.hist(props.loc[props['Mut'] == 'IHH']['Ecc'], bins=list(np.arange(0,1.1,.1)), color=\"red\")\n",
    "plt.savefig(\"IHH Eccentricity Hist\", dpi=150)"
   ]
  },
  {
   "cell_type": "code",
   "execution_count": null,
   "metadata": {},
   "outputs": [],
   "source": [
    "plt.figure(figsize = (8,6))\n",
    "sns.kdeplot(props.loc[props['Mut'] == 'WT']['Ecc'], shade=True, bw=.04, label='WT')\n",
    "sns.kdeplot(props.loc[props['Mut'] == 'IHH']['Ecc'], shade=True, bw=.04, color=\"red\", label='IHH')\n",
    "plt.xlim(0, 1.2)\n",
    "plt.savefig(\"WT-IHH Eccentricity Density Plot\", dpi=150)"
   ]
  },
  {
   "cell_type": "code",
   "execution_count": null,
   "metadata": {},
   "outputs": [],
   "source": [
    "plt.figure(figsize = (8,6))\n",
    "plt.hist(sides.loc[sides['Mut'] == 'WT']['Number of Sides'], bins=list(np.arange(3,13,1)))\n",
    "plt.xlim(3, 15)\n",
    "plt.savefig(\"WT Side Number Hist\", dpi=150)"
   ]
  },
  {
   "cell_type": "code",
   "execution_count": null,
   "metadata": {},
   "outputs": [],
   "source": [
    "plt.figure(figsize = (8,6))\n",
    "plt.hist(sides.loc[sides['Mut'] == 'IHH']['Number of Sides'], bins=list(np.arange(3,13,1)), color='red')\n",
    "plt.xlim(3, 15)\n",
    "plt.savefig(\"IHH Side Number Hist\", dpi=150)"
   ]
  },
  {
   "cell_type": "code",
   "execution_count": null,
   "metadata": {},
   "outputs": [],
   "source": [
    "plt.figure(figsize = (8,6))\n",
    "sns.kdeplot(sides.loc[sides['Mut'] == 'WT']['Number of Sides'], shade=True, bw=.5, label='WT');\n",
    "sns.kdeplot(sides.loc[sides['Mut'] == 'IHH']['Number of Sides'], shade=True, bw=.5, color=\"red\", label='IHH');\n",
    "plt.xlim(3, 15)\n",
    "plt.savefig(\"WT-IHH Side Number Density Plot\", dpi=150)"
   ]
  },
  {
   "cell_type": "code",
   "execution_count": null,
   "metadata": {},
   "outputs": [],
   "source": [
    "# Function to replot segmented cell images with random colors\n",
    "\n",
    "for i in range(0, len(cells)):\n",
    "    blank_image = np.zeros(cells[i].shape)\n",
    "    for j in tqdm(range(1, np.max(cells[i]))):\n",
    "        m = cells[i] == j\n",
    "        blank_image += m*random.randint(1, 100000)\n",
    "    \n",
    "    test = skimage.img_as_float(blank_image)\n",
    "    \n",
    "    plt.figure(figsize = (30, 30))\n",
    "    plt.imshow(test, cmap=rmap)\n",
    "    plt.axis('off')\n",
    "\n",
    "    plt.savefig(\"Cell Outline Random Colors %s %s\" % (mice[i], mut[i]), dpi=300)\n",
    "    plt.close()"
   ]
  }
 ],
 "metadata": {
  "kernelspec": {
   "display_name": "Python 3",
   "language": "python",
   "name": "python3"
  },
  "language_info": {
   "codemirror_mode": {
    "name": "ipython",
    "version": 3
   },
   "file_extension": ".py",
   "mimetype": "text/x-python",
   "name": "python",
   "nbconvert_exporter": "python",
   "pygments_lexer": "ipython3",
   "version": "3.7.1"
  }
 },
 "nbformat": 4,
 "nbformat_minor": 2
}
