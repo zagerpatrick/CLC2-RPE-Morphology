{
 "cells": [
  {
   "cell_type": "code",
   "execution_count": null,
   "metadata": {},
   "outputs": [],
   "source": [
    "%run \"P:\\Experiments\\006 RPE Image Analysis (Christin)\\Functions.py\" "
   ]
  },
  {
   "cell_type": "code",
   "execution_count": null,
   "metadata": {},
   "outputs": [],
   "source": [
    "# Define Mouse ID's, Mutations, and Tissue Types\n",
    "\n",
    "mouse_num = ['1256', '1257', '1258', '1259', '1260', '1494', '1498', '1499', \n",
    "             '1500', '1501', '1502']\n",
    "mut_types = ['WT', 'Het', 'KO']\n",
    "age_type = ['P14', 'P30']\n",
    "steps = 1\n",
    "\n",
    "# Define smoothing kernel size and other stuff for later\n",
    "\n",
    "smooth_size = 3\n",
    "selem = disk(3)\n",
    "Bc = np.ones((9,9))"
   ]
  },
  {
   "cell_type": "code",
   "execution_count": null,
   "metadata": {},
   "outputs": [],
   "source": [
    "# Set working directory\n",
    "%cd \"P:\\Experiments\\006 RPE Image Analysis (Christin)\\2019-06-25 CLC2 RPE Morphology\\Images\"\n",
    "\n",
    "# Read in data from .tif\n",
    "AF_647 = skimage.io.ImageCollection('*647.tif', load_func=imread_rgb)\n",
    "\n",
    "ZO1 = [image for image in AF_647]\n",
    "\n",
    "filenames = glob.glob('*647.tif')\n",
    "filenames.sort(key=natural_keys) # Note the natural sorting definition so that \n",
    "                                 # filenames are in line with ImageCollection Images"
   ]
  },
  {
   "cell_type": "code",
   "execution_count": null,
   "metadata": {},
   "outputs": [],
   "source": [
    "# Create factor lists to be used in dataframes later\n",
    "mut = factor_maker(mut_types, filenames, steps)\n",
    "mice = factor_maker(mouse_num, filenames, steps)"
   ]
  },
  {
   "cell_type": "code",
   "execution_count": null,
   "metadata": {},
   "outputs": [],
   "source": [
    "%cd \"P:\\Experiments\\006 RPE Image Analysis (Christin)\\2019-06-25 CLC2 RPE Morphology\\Results\\Flat Mount Area\"\n",
    "\n",
    "# Local thresholding is utilized as flatmounts are rarely so flat\n",
    "# as to be entirely within a single focal plane, which results in\n",
    "# variable tissue stain intensity within the images. Binary dilation\n",
    "# and fill holes are used to fill gaps. Lastly, the flat mount area\n",
    "# is extracted by appending the largest non-background label.\n",
    "\n",
    "fm_area_image = []\n",
    "fm_area_value = []\n",
    "\n",
    "for n, image in tqdm(enumerate(ZO1)):\n",
    "    thresh = skimage.filters.threshold_local(image, 7999)\n",
    "    binary = image > thresh\n",
    "    binary_dil = skimage.morphology.binary_dilation(binary, disk(12))\n",
    "    binary_closed = mh.close_holes(binary_dil)\n",
    "    binary_label, n_mc = mh.label(binary_closed)\n",
    "    \n",
    "    label_areas = mh.labeled.labeled_size(binary_label)\n",
    "    label_areas_noback = label_areas[1:]\n",
    "    fm_area_image.append(binary_label == np.argsort(label_areas_noback)[-1] + 1)\n",
    "    fm_area_value.append(np.sort(label_areas_noback)[-1] + 1)\n",
    "    \n",
    "    # Save flat mount area numpy arrays so they can be loaded later.\n",
    "    np.save(\"Flat Mount Area Array %s %s\" % (mice[n], mut[n]), \n",
    "            binary_label == np.argsort(label_areas_noback)[-1] + 1)\n",
    "    \n",
    "    plt.figure(figsize = (15, 15))\n",
    "    \n",
    "    plt.imshow(fm_area_image[n], cmap=rmap)\n",
    "    plt.axis('off')\n",
    "\n",
    "    plt.savefig(\"Flat Mount Area %s %s\" % (mut[n], mice[n]), dpi=150)\n",
    "    plt.close()   "
   ]
  },
  {
   "cell_type": "code",
   "execution_count": null,
   "metadata": {},
   "outputs": [],
   "source": [
    "%cd \"P:\\Experiments\\006 RPE Image Analysis (Christin)\\2019-06-25 CLC2 RPE Morphology\\Results\"\n",
    "\n",
    "cells = []\n",
    "\n",
    "for n, image in enumerate(ZO1):\n",
    "    neurites = enhance_neurites(image, sigma=2)\n",
    "    thresh = skimage.filters.threshold_local(neurites, 99)\n",
    "    binary = neurites > thresh\n",
    "    # binary = skimage.filters.apply_hysteresis_threshold(test, 0.04, 0.25)\n",
    "    skel = skimage.morphology.skeletonize(binary)\n",
    "    closed = skimage.morphology.binary_closing(skel, selem = square(3))\n",
    "    dil = skimage.morphology.binary_dilation(closed, selem = square(3))\n",
    "    flat_dil = dil*fm_area_image[n]\n",
    "    \n",
    "    binary_label, n_cell1 = mh.label(skimage.util.invert(flat_dil))\n",
    "    pre_cell_sizes = mh.labeled.labeled_size(binary_label)\n",
    "    pre_multi_cell = np.where(pre_cell_sizes > 20000)\n",
    "    pre_small_cell = np.where(pre_cell_sizes < 20)\n",
    "    pre_binary2 = mh.labeled.remove_regions(binary_label, pre_multi_cell)\n",
    "    pre_binary3 = mh.labeled.remove_regions(pre_binary2, pre_small_cell)\n",
    "    \n",
    "    binary_closed = mh.close_holes(pre_binary3)\n",
    "    binary_closed_label, n_cell2 = mh.label(binary_closed)\n",
    "    cell_sizes = mh.labeled.labeled_size(binary_closed_label)\n",
    "    multi_cell = np.where(cell_sizes > 1500)\n",
    "    small_cell = np.where(cell_sizes < 150)\n",
    "    binary2 = mh.labeled.remove_regions(binary_closed_label, multi_cell)\n",
    "    binary3 = mh.labeled.remove_regions(binary2, small_cell)\n",
    "\n",
    "    cleared = skimage.segmentation.clear_border(binary3)\n",
    "    cleared2, n_left = mh.labeled.relabel(cleared)\n",
    "    \n",
    "    cells.append(cleared2)\n",
    "    \n",
    "    # Save segmented numpy arrays so they can be loaded later.\n",
    "    np.save(\"Cell Outline Array %s %s\" % (mice[n], mut[n]), cleared2)\n",
    "    \n",
    "    plt.figure(figsize = (30, 30))\n",
    "    plt.imshow(cleared2, cmap=rmap, interpolation='nearest')\n",
    "    plt.axis('off')\n",
    "\n",
    "    plt.savefig(\"Cell Outline %s %s\" % (mice[n], mut[n]), dpi=300)\n",
    "    plt.close()"
   ]
  },
  {
   "cell_type": "code",
   "execution_count": null,
   "metadata": {},
   "outputs": [],
   "source": []
  }
 ],
 "metadata": {
  "kernelspec": {
   "display_name": "Python 3",
   "language": "python",
   "name": "python3"
  },
  "language_info": {
   "codemirror_mode": {
    "name": "ipython",
    "version": 3
   },
   "file_extension": ".py",
   "mimetype": "text/x-python",
   "name": "python",
   "nbconvert_exporter": "python",
   "pygments_lexer": "ipython3",
   "version": "3.7.1"
  }
 },
 "nbformat": 4,
 "nbformat_minor": 2
}
